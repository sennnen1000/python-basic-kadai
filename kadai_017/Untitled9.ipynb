{
  "nbformat": 4,
  "nbformat_minor": 0,
  "metadata": {
    "colab": {
      "provenance": []
    },
    "kernelspec": {
      "name": "python3",
      "display_name": "Python 3"
    },
    "language_info": {
      "name": "python"
    }
  },
  "cells": [
    {
      "cell_type": "code",
      "source": [
        "\"\"\"\n",
        "名前(name)と年齢(age)の属性を持つHumanクラスを作成してください。\n",
        "\n",
        "Humanクラスには、以下の条件で標準出力(print)するcheck_adultメソッドを追加してください。\n",
        "\n",
        "ageが20以上の場合に大人であること\n",
        "そうでない場合に大人でないこと\n",
        "\n",
        "Humanクラスのインスタンスを複数生成してリストに追加し、リストの要素数分だけcheck_adultメソッドを呼び出してください。\n",
        "\n",
        "\"\"\""
      ],
      "metadata": {
        "id": "cXVRpW3WfeCF"
      },
      "execution_count": null,
      "outputs": []
    },
    {
      "cell_type": "code",
      "execution_count": 7,
      "metadata": {
        "colab": {
          "base_uri": "https://localhost:8080/"
        },
        "id": "D4v59rUrdOx-",
        "outputId": "a73224aa-f6c5-4630-9a7e-fadc72086d86"
      },
      "outputs": [
        {
          "output_type": "stream",
          "name": "stdout",
          "text": [
            "Mike is an adult.\n",
            "Lisa is not an adult.\n",
            "Melissa is an adult.\n",
            "James is not an adult.\n"
          ]
        }
      ],
      "source": [
        "class Human:\n",
        "  def __init__(self, name, age):\n",
        "    self.name = name\n",
        "    self.age = age\n",
        "\n",
        "  def check_adult(self):\n",
        "    if self.age >= 20:\n",
        "      print(f\"{self.name} is an adult.\")\n",
        "    else:\n",
        "      print(f\"{self.name} is not an adult.\")\n",
        "\n",
        "user1 = Human(\"Mike\", 32)\n",
        "user2 = Human(\"Lisa\", 18)\n",
        "user3 = Human(\"Melissa\", 25)\n",
        "user4 = Human(\"James\", 15)\n",
        "\n",
        "user_names = [user1, user2, user3, user4]\n",
        "\n",
        "for user in user_names:\n",
        "  user.check_adult()"
      ]
    }
  ]
}