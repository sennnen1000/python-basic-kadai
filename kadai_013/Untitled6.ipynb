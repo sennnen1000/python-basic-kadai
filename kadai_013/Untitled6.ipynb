{
  "nbformat": 4,
  "nbformat_minor": 0,
  "metadata": {
    "colab": {
      "provenance": []
    },
    "kernelspec": {
      "name": "python3",
      "display_name": "Python 3"
    },
    "language_info": {
      "name": "python"
    }
  },
  "cells": [
    {
      "cell_type": "code",
      "source": [
        "def final_price(price, tax):\n",
        "  tax = price * 0.1\n",
        "  total = price + tax\n",
        "  return total\n",
        "total = final_price(1000, 10)\n",
        "print(f\"{total}円\")"
      ],
      "metadata": {
        "id": "BO_rhtiLvWum",
        "colab": {
          "base_uri": "https://localhost:8080/"
        },
        "outputId": "a13b4b78-360b-4ba1-aa5c-eec6fd934fba"
      },
      "execution_count": 4,
      "outputs": [
        {
          "output_type": "stream",
          "name": "stdout",
          "text": [
            "1100.0円\n"
          ]
        }
      ]
    }
  ]
}